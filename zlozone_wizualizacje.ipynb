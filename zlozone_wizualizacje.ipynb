{
 "cells": [
  {
   "cell_type": "code",
   "execution_count": null,
   "metadata": {},
   "outputs": [
    {
     "ename": "",
     "evalue": "",
     "output_type": "error",
     "traceback": [
      "\u001b[1;31mRunning cells with 'venv' requires ipykernel package.\n",
      "\u001b[1;31mRun the following command to install 'ipykernel' into the Python environment. \n",
      "\u001b[1;31mCommand: '/home/jarekj/dane/venv/bin/python -m pip install ipykernel -U --force-reinstall'"
     ]
    }
   ],
   "source": [
    "import matplotlib.pyplot as plt\n",
    "import matplotlib.colors as clt\n",
    "from matplotlib import cm\n",
    "import pandas as pd\n",
    "import numpy as np"
   ]
  },
  {
   "cell_type": "markdown",
   "metadata": {},
   "source": []
  },
  {
   "attachments": {},
   "cell_type": "markdown",
   "metadata": {},
   "source": [
    "## Wykres cukierkowy (giełdowy)\n",
    "\n",
    "Wykres prezentuje zmiany notowań giełdowych. "
   ]
  },
  {
   "cell_type": "code",
   "execution_count": 3,
   "metadata": {},
   "outputs": [
    {
     "data": {
      "text/html": [
       "<div>\n",
       "<style scoped>\n",
       "    .dataframe tbody tr th:only-of-type {\n",
       "        vertical-align: middle;\n",
       "    }\n",
       "\n",
       "    .dataframe tbody tr th {\n",
       "        vertical-align: top;\n",
       "    }\n",
       "\n",
       "    .dataframe thead th {\n",
       "        text-align: right;\n",
       "    }\n",
       "</style>\n",
       "<table border=\"1\" class=\"dataframe\">\n",
       "  <thead>\n",
       "    <tr style=\"text-align: right;\">\n",
       "      <th></th>\n",
       "      <th>stock</th>\n",
       "      <th>date</th>\n",
       "      <th>open</th>\n",
       "      <th>high</th>\n",
       "      <th>low</th>\n",
       "      <th>close</th>\n",
       "      <th>volume</th>\n",
       "      <th>days_to_next_dividend</th>\n",
       "      <th>percent_return_next_dividend</th>\n",
       "    </tr>\n",
       "  </thead>\n",
       "  <tbody>\n",
       "    <tr>\n",
       "      <th>0</th>\n",
       "      <td>AA</td>\n",
       "      <td>01/07/11</td>\n",
       "      <td>15.82</td>\n",
       "      <td>16.72</td>\n",
       "      <td>15.78</td>\n",
       "      <td>16.42</td>\n",
       "      <td>239655616</td>\n",
       "      <td>26</td>\n",
       "      <td>0.182704</td>\n",
       "    </tr>\n",
       "    <tr>\n",
       "      <th>1</th>\n",
       "      <td>AA</td>\n",
       "      <td>01/14/11</td>\n",
       "      <td>16.71</td>\n",
       "      <td>16.71</td>\n",
       "      <td>15.64</td>\n",
       "      <td>15.97</td>\n",
       "      <td>242963398</td>\n",
       "      <td>19</td>\n",
       "      <td>0.187852</td>\n",
       "    </tr>\n",
       "    <tr>\n",
       "      <th>2</th>\n",
       "      <td>AA</td>\n",
       "      <td>01/21/11</td>\n",
       "      <td>16.19</td>\n",
       "      <td>16.38</td>\n",
       "      <td>15.60</td>\n",
       "      <td>15.79</td>\n",
       "      <td>138428495</td>\n",
       "      <td>12</td>\n",
       "      <td>0.189994</td>\n",
       "    </tr>\n",
       "    <tr>\n",
       "      <th>3</th>\n",
       "      <td>AA</td>\n",
       "      <td>01/28/11</td>\n",
       "      <td>15.87</td>\n",
       "      <td>16.63</td>\n",
       "      <td>15.82</td>\n",
       "      <td>16.13</td>\n",
       "      <td>151379173</td>\n",
       "      <td>5</td>\n",
       "      <td>0.185989</td>\n",
       "    </tr>\n",
       "    <tr>\n",
       "      <th>4</th>\n",
       "      <td>AA</td>\n",
       "      <td>02/04/11</td>\n",
       "      <td>16.18</td>\n",
       "      <td>17.39</td>\n",
       "      <td>16.18</td>\n",
       "      <td>17.14</td>\n",
       "      <td>154387761</td>\n",
       "      <td>97</td>\n",
       "      <td>0.175029</td>\n",
       "    </tr>\n",
       "  </tbody>\n",
       "</table>\n",
       "</div>"
      ],
      "text/plain": [
       "  stock      date   open   high    low  close     volume  \\\n",
       "0    AA  01/07/11  15.82  16.72  15.78  16.42  239655616   \n",
       "1    AA  01/14/11  16.71  16.71  15.64  15.97  242963398   \n",
       "2    AA  01/21/11  16.19  16.38  15.60  15.79  138428495   \n",
       "3    AA  01/28/11  15.87  16.63  15.82  16.13  151379173   \n",
       "4    AA  02/04/11  16.18  17.39  16.18  17.14  154387761   \n",
       "\n",
       "   days_to_next_dividend  percent_return_next_dividend  \n",
       "0                     26                      0.182704  \n",
       "1                     19                      0.187852  \n",
       "2                     12                      0.189994  \n",
       "3                      5                      0.185989  \n",
       "4                     97                      0.175029  "
      ]
     },
     "execution_count": 3,
     "metadata": {},
     "output_type": "execute_result"
    }
   ],
   "source": [
    "stock = pd.read_csv(\"dane/stock.csv\")\n",
    "aa = stock[stock.stock=='AA']\n",
    "aa.head()"
   ]
  },
  {
   "cell_type": "code",
   "execution_count": 4,
   "metadata": {},
   "outputs": [
    {
     "data": {
      "image/png": "[encoded data removed]",
      "text/plain": [
       "<Figure size 720x432 with 2 Axes>"
      ]
     },
     "metadata": {
      "needs_background": "light"
     },
     "output_type": "display_data"
    }
   ],
   "source": [
    "gsk = {'hspace': 0,'height_ratios':[2,1]} #1\n",
    "fig,(ax1,ax2) = plt.subplots(nrows=2,figsize=(10,6),gridspec_kw=gsk)\n",
    "bar_height = aa.close-aa.open\n",
    "line_height = aa.high-aa.low\n",
    "colormap = clt.ListedColormap([\"#ce0000\",\"#00ce00\"],name='listed') #2 \n",
    "colors = np.sign(bar_height)\n",
    "\n",
    "ax1.bar(x=aa.date,bottom=aa.open,height=bar_height,color=colormap(colors),width=0.95,zorder=10)\n",
    "ax1.bar(x=aa.date,bottom=aa.low,height=line_height,color=colormap(colors),width=0.1,zorder=10)\n",
    "ax1.spines.bottom.set_visible(False) #3\n",
    "ax1.xaxis.set_tick_params(bottom=False,labelbottom=False)\n",
    "ax1.set_ylabel(\"Prices\",labelpad=10)\n",
    "ax1.yaxis.set_label_position('right') #4\n",
    "\n",
    "ax2.bar(x=aa.date,height=aa.volume,color=\"#CCCCCC\",width=0.95,zorder=1)\n",
    "ax2.yaxis.set_ticks_position('right')\n",
    "ax2.spines.top.set_visible(False)\n",
    "ax2.set_xlabel(\"Date\",labelpad=10)\n",
    "ax2.set_ylabel(\"Volume ($10^8$)\",labelpad=10) #5\n",
    "ax2.yaxis.set_major_formatter(lambda x, pos: str(x/1e8)) #6\n",
    "ax2.xaxis.set_tick_params(labelrotation=90,labelsize=9)"
   ]
  }
 ],
 "metadata": {
  "kernelspec": {
   "display_name": "venv",
   "language": "python",
   "name": "python3"
  },
  "language_info": {
   "codemirror_mode": {
    "name": "ipython",
    "version": 3
   },
   "file_extension": ".py",
   "mimetype": "text/x-python",
   "name": "python",
   "nbconvert_exporter": "python",
   "pygments_lexer": "ipython3",
   "version": "3.10.6 (main, Nov 10 2011, 15:00:00) [GCC 12.1.0]"
  },
  "orig_nbformat": 4,
  "vscode": {
   "interpreter": {
    "hash": "ac9664edd411dd8b4d878efd1e3a133e961a77af9efedc7508f6aa90bb952399"
   }
  }
 },
 "nbformat": 4,
 "nbformat_minor": 2
}
